{
  "nbformat": 4,
  "nbformat_minor": 0,
  "metadata": {
    "colab": {
      "provenance": [],
      "mount_file_id": "1OPn0IQj0xT0FT-r_0ukMH1MCK_tlskdu",
      "authorship_tag": "ABX9TyPr88PaQm4DUqy8euDfRjrx",
      "include_colab_link": true
    },
    "kernelspec": {
      "name": "python3",
      "display_name": "Python 3"
    },
    "language_info": {
      "name": "python"
    }
  },
  "cells": [
    {
      "cell_type": "markdown",
      "metadata": {
        "id": "view-in-github",
        "colab_type": "text"
      },
      "source": [
        "<a href=\"https://colab.research.google.com/github/danielefak/BNL-Dirichlet/blob/master/TID_analysis_and_dataset_creation.ipynb\" target=\"_parent\"><img src=\"https://colab.research.google.com/assets/colab-badge.svg\" alt=\"Open In Colab\"/></a>"
      ]
    },
    {
      "cell_type": "code",
      "execution_count": 1,
      "metadata": {
        "colab": {
          "base_uri": "https://localhost:8080/"
        },
        "id": "IGJsVRBr_XxU",
        "outputId": "0b1a7366-062f-4ade-d88f-7b7b1093ee5d"
      },
      "outputs": [
        {
          "output_type": "stream",
          "name": "stdout",
          "text": [
            "Mounted at /content/gdrive\n"
          ]
        }
      ],
      "source": [
        "from google.colab import drive\n",
        "drive.mount('/content/gdrive')"
      ]
    },
    {
      "cell_type": "code",
      "source": [
        "import pandas as pd\n",
        "import matplotlib.pyplot as plt\n",
        "import numpy as np\n",
        "from datetime import datetime\n",
        "from datetime import timedelta"
      ],
      "metadata": {
        "id": "DMs6lHHN_h0W"
      },
      "execution_count": 2,
      "outputs": []
    },
    {
      "cell_type": "markdown",
      "source": [
        "# TID Analysis"
      ],
      "metadata": {
        "id": "Ybu5R0xtPpl_"
      }
    },
    {
      "cell_type": "code",
      "source": [
        "df_TID = pd.read_csv('/content/gdrive/Shareddrives/T-FORSE/TID_catalog.csv')\n",
        "print(len(df_TID))\n",
        "df_TID.tail()"
      ],
      "metadata": {
        "colab": {
          "base_uri": "https://localhost:8080/",
          "height": 223
        },
        "id": "oRmMb2KJGqgA",
        "outputId": "03359e41-905b-410a-ff89-4d49d5e2a48c"
      },
      "execution_count": 3,
      "outputs": [
        {
          "output_type": "stream",
          "name": "stdout",
          "text": [
            "760\n"
          ]
        },
        {
          "output_type": "execute_result",
          "data": {
            "text/plain": [
              "     duration  period   amp  spcont     vel     azi    qi  \\\n",
              "755       1.9  136.00  0.49   74.05  698.31  213.60  0.49   \n",
              "756       6.8  121.15  0.86   60.20  657.88  183.86  0.56   \n",
              "757       2.5  135.53  0.67   78.25  431.76  206.34  0.41   \n",
              "758       5.0  124.87  1.89   74.40  419.81  199.57  0.41   \n",
              "759       1.5  129.74  0.93   73.14  344.59  238.78  0.28   \n",
              "\n",
              "                       dt  \n",
              "755  29-Nov-2022 21:50:00  \n",
              "756  01-Dec-2022 17:50:00  \n",
              "757  05-Dec-2022 20:30:00  \n",
              "758  07-Dec-2022 17:20:00  \n",
              "759  23-Dec-2022 22:20:00  "
            ],
            "text/html": [
              "\n",
              "  <div id=\"df-6ad9ceee-21b7-4651-a72e-c2b90adcd202\">\n",
              "    <div class=\"colab-df-container\">\n",
              "      <div>\n",
              "<style scoped>\n",
              "    .dataframe tbody tr th:only-of-type {\n",
              "        vertical-align: middle;\n",
              "    }\n",
              "\n",
              "    .dataframe tbody tr th {\n",
              "        vertical-align: top;\n",
              "    }\n",
              "\n",
              "    .dataframe thead th {\n",
              "        text-align: right;\n",
              "    }\n",
              "</style>\n",
              "<table border=\"1\" class=\"dataframe\">\n",
              "  <thead>\n",
              "    <tr style=\"text-align: right;\">\n",
              "      <th></th>\n",
              "      <th>duration</th>\n",
              "      <th>period</th>\n",
              "      <th>amp</th>\n",
              "      <th>spcont</th>\n",
              "      <th>vel</th>\n",
              "      <th>azi</th>\n",
              "      <th>qi</th>\n",
              "      <th>dt</th>\n",
              "    </tr>\n",
              "  </thead>\n",
              "  <tbody>\n",
              "    <tr>\n",
              "      <th>755</th>\n",
              "      <td>1.9</td>\n",
              "      <td>136.00</td>\n",
              "      <td>0.49</td>\n",
              "      <td>74.05</td>\n",
              "      <td>698.31</td>\n",
              "      <td>213.60</td>\n",
              "      <td>0.49</td>\n",
              "      <td>29-Nov-2022 21:50:00</td>\n",
              "    </tr>\n",
              "    <tr>\n",
              "      <th>756</th>\n",
              "      <td>6.8</td>\n",
              "      <td>121.15</td>\n",
              "      <td>0.86</td>\n",
              "      <td>60.20</td>\n",
              "      <td>657.88</td>\n",
              "      <td>183.86</td>\n",
              "      <td>0.56</td>\n",
              "      <td>01-Dec-2022 17:50:00</td>\n",
              "    </tr>\n",
              "    <tr>\n",
              "      <th>757</th>\n",
              "      <td>2.5</td>\n",
              "      <td>135.53</td>\n",
              "      <td>0.67</td>\n",
              "      <td>78.25</td>\n",
              "      <td>431.76</td>\n",
              "      <td>206.34</td>\n",
              "      <td>0.41</td>\n",
              "      <td>05-Dec-2022 20:30:00</td>\n",
              "    </tr>\n",
              "    <tr>\n",
              "      <th>758</th>\n",
              "      <td>5.0</td>\n",
              "      <td>124.87</td>\n",
              "      <td>1.89</td>\n",
              "      <td>74.40</td>\n",
              "      <td>419.81</td>\n",
              "      <td>199.57</td>\n",
              "      <td>0.41</td>\n",
              "      <td>07-Dec-2022 17:20:00</td>\n",
              "    </tr>\n",
              "    <tr>\n",
              "      <th>759</th>\n",
              "      <td>1.5</td>\n",
              "      <td>129.74</td>\n",
              "      <td>0.93</td>\n",
              "      <td>73.14</td>\n",
              "      <td>344.59</td>\n",
              "      <td>238.78</td>\n",
              "      <td>0.28</td>\n",
              "      <td>23-Dec-2022 22:20:00</td>\n",
              "    </tr>\n",
              "  </tbody>\n",
              "</table>\n",
              "</div>\n",
              "      <button class=\"colab-df-convert\" onclick=\"convertToInteractive('df-6ad9ceee-21b7-4651-a72e-c2b90adcd202')\"\n",
              "              title=\"Convert this dataframe to an interactive table.\"\n",
              "              style=\"display:none;\">\n",
              "        \n",
              "  <svg xmlns=\"http://www.w3.org/2000/svg\" height=\"24px\"viewBox=\"0 0 24 24\"\n",
              "       width=\"24px\">\n",
              "    <path d=\"M0 0h24v24H0V0z\" fill=\"none\"/>\n",
              "    <path d=\"M18.56 5.44l.94 2.06.94-2.06 2.06-.94-2.06-.94-.94-2.06-.94 2.06-2.06.94zm-11 1L8.5 8.5l.94-2.06 2.06-.94-2.06-.94L8.5 2.5l-.94 2.06-2.06.94zm10 10l.94 2.06.94-2.06 2.06-.94-2.06-.94-.94-2.06-.94 2.06-2.06.94z\"/><path d=\"M17.41 7.96l-1.37-1.37c-.4-.4-.92-.59-1.43-.59-.52 0-1.04.2-1.43.59L10.3 9.45l-7.72 7.72c-.78.78-.78 2.05 0 2.83L4 21.41c.39.39.9.59 1.41.59.51 0 1.02-.2 1.41-.59l7.78-7.78 2.81-2.81c.8-.78.8-2.07 0-2.86zM5.41 20L4 18.59l7.72-7.72 1.47 1.35L5.41 20z\"/>\n",
              "  </svg>\n",
              "      </button>\n",
              "      \n",
              "  <style>\n",
              "    .colab-df-container {\n",
              "      display:flex;\n",
              "      flex-wrap:wrap;\n",
              "      gap: 12px;\n",
              "    }\n",
              "\n",
              "    .colab-df-convert {\n",
              "      background-color: #E8F0FE;\n",
              "      border: none;\n",
              "      border-radius: 50%;\n",
              "      cursor: pointer;\n",
              "      display: none;\n",
              "      fill: #1967D2;\n",
              "      height: 32px;\n",
              "      padding: 0 0 0 0;\n",
              "      width: 32px;\n",
              "    }\n",
              "\n",
              "    .colab-df-convert:hover {\n",
              "      background-color: #E2EBFA;\n",
              "      box-shadow: 0px 1px 2px rgba(60, 64, 67, 0.3), 0px 1px 3px 1px rgba(60, 64, 67, 0.15);\n",
              "      fill: #174EA6;\n",
              "    }\n",
              "\n",
              "    [theme=dark] .colab-df-convert {\n",
              "      background-color: #3B4455;\n",
              "      fill: #D2E3FC;\n",
              "    }\n",
              "\n",
              "    [theme=dark] .colab-df-convert:hover {\n",
              "      background-color: #434B5C;\n",
              "      box-shadow: 0px 1px 3px 1px rgba(0, 0, 0, 0.15);\n",
              "      filter: drop-shadow(0px 1px 2px rgba(0, 0, 0, 0.3));\n",
              "      fill: #FFFFFF;\n",
              "    }\n",
              "  </style>\n",
              "\n",
              "      <script>\n",
              "        const buttonEl =\n",
              "          document.querySelector('#df-6ad9ceee-21b7-4651-a72e-c2b90adcd202 button.colab-df-convert');\n",
              "        buttonEl.style.display =\n",
              "          google.colab.kernel.accessAllowed ? 'block' : 'none';\n",
              "\n",
              "        async function convertToInteractive(key) {\n",
              "          const element = document.querySelector('#df-6ad9ceee-21b7-4651-a72e-c2b90adcd202');\n",
              "          const dataTable =\n",
              "            await google.colab.kernel.invokeFunction('convertToInteractive',\n",
              "                                                     [key], {});\n",
              "          if (!dataTable) return;\n",
              "\n",
              "          const docLinkHtml = 'Like what you see? Visit the ' +\n",
              "            '<a target=\"_blank\" href=https://colab.research.google.com/notebooks/data_table.ipynb>data table notebook</a>'\n",
              "            + ' to learn more about interactive tables.';\n",
              "          element.innerHTML = '';\n",
              "          dataTable['output_type'] = 'display_data';\n",
              "          await google.colab.output.renderOutput(dataTable, element);\n",
              "          const docLink = document.createElement('div');\n",
              "          docLink.innerHTML = docLinkHtml;\n",
              "          element.appendChild(docLink);\n",
              "        }\n",
              "      </script>\n",
              "    </div>\n",
              "  </div>\n",
              "  "
            ]
          },
          "metadata": {},
          "execution_count": 3
        }
      ]
    },
    {
      "cell_type": "code",
      "source": [
        "df_TID['year'] = pd.DatetimeIndex(df_TID['dt']).year\n",
        "df_TID['month'] = pd.DatetimeIndex(df_TID['dt']).month\n",
        "df_TID['hour'] = pd.DatetimeIndex(df_TID['dt']).hour"
      ],
      "metadata": {
        "id": "I8w09ye6Lf5N"
      },
      "execution_count": 4,
      "outputs": []
    },
    {
      "cell_type": "markdown",
      "source": [
        "ISTANZE NEL TEMPO: MESE, ANNO, ORA"
      ],
      "metadata": {
        "id": "xANWlvyIOhXp"
      }
    },
    {
      "cell_type": "code",
      "source": [
        "df_TID['dt'].groupby(df_TID[\"month\"]).count().plot(kind=\"bar\")"
      ],
      "metadata": {
        "colab": {
          "base_uri": "https://localhost:8080/",
          "height": 470
        },
        "id": "2o1o7NDhMB8Q",
        "outputId": "30ac9d9f-dcb0-4759-dd85-27f20cf1b272"
      },
      "execution_count": 5,
      "outputs": [
        {
          "output_type": "execute_result",
          "data": {
            "text/plain": [
              "<Axes: xlabel='month'>"
            ]
          },
          "metadata": {},
          "execution_count": 5
        },
        {
          "output_type": "display_data",
          "data": {
            "text/plain": [
              "<Figure size 640x480 with 1 Axes>"
            ],
            "image/png": "[encoded data removed]"
          },
          "metadata": {}
        }
      ]
    },
    {
      "cell_type": "code",
      "source": [
        "df_TID['dt'].groupby(df_TID[\"year\"]).count().plot(kind=\"bar\")"
      ],
      "metadata": {
        "colab": {
          "base_uri": "https://localhost:8080/",
          "height": 488
        },
        "id": "gH3LPvBhItkP",
        "outputId": "e59c437a-acb5-4506-8bdb-e5471450771c"
      },
      "execution_count": 6,
      "outputs": [
        {
          "output_type": "execute_result",
          "data": {
            "text/plain": [
              "<Axes: xlabel='year'>"
            ]
          },
          "metadata": {},
          "execution_count": 6
        },
        {
          "output_type": "display_data",
          "data": {
            "text/plain": [
              "<Figure size 640x480 with 1 Axes>"
            ],
            "image/png": "[encoded data removed]"
          },
          "metadata": {}
        }
      ]
    },
    {
      "cell_type": "code",
      "source": [
        "df_solar = pd.read_csv('/content/gdrive/Shareddrives/T-FORSE/solar_data.csv')\n",
        "df_solar['year'] = pd.DatetimeIndex(df_solar['dt']).year\n",
        "df_solar['month'] = pd.DatetimeIndex(df_solar['dt']).month\n",
        "df_solar.tail()"
      ],
      "metadata": {
        "colab": {
          "base_uri": "https://localhost:8080/",
          "height": 206
        },
        "id": "NLiTFAHCTArN",
        "outputId": "a166b0ca-e4af-44b2-be77-038dfdb70582"
      },
      "execution_count": 7,
      "outputs": [
        {
          "output_type": "execute_result",
          "data": {
            "text/plain": [
              "      dayofrotation  sunspostn  f107adj           dt  year  month\n",
              "3789             13        120    154.1  18-May-2023  2023      5\n",
              "3790             14        135    168.5  19-May-2023  2023      5\n",
              "3791             15        140    173.7  20-May-2023  2023      5\n",
              "3792             16        138    167.3  21-May-2023  2023      5\n",
              "3793             17        131    165.5  22-May-2023  2023      5"
            ],
            "text/html": [
              "\n",
              "  <div id=\"df-d5936b2d-3822-4725-a8fe-e0caff8b9a6f\">\n",
              "    <div class=\"colab-df-container\">\n",
              "      <div>\n",
              "<style scoped>\n",
              "    .dataframe tbody tr th:only-of-type {\n",
              "        vertical-align: middle;\n",
              "    }\n",
              "\n",
              "    .dataframe tbody tr th {\n",
              "        vertical-align: top;\n",
              "    }\n",
              "\n",
              "    .dataframe thead th {\n",
              "        text-align: right;\n",
              "    }\n",
              "</style>\n",
              "<table border=\"1\" class=\"dataframe\">\n",
              "  <thead>\n",
              "    <tr style=\"text-align: right;\">\n",
              "      <th></th>\n",
              "      <th>dayofrotation</th>\n",
              "      <th>sunspostn</th>\n",
              "      <th>f107adj</th>\n",
              "      <th>dt</th>\n",
              "      <th>year</th>\n",
              "      <th>month</th>\n",
              "    </tr>\n",
              "  </thead>\n",
              "  <tbody>\n",
              "    <tr>\n",
              "      <th>3789</th>\n",
              "      <td>13</td>\n",
              "      <td>120</td>\n",
              "      <td>154.1</td>\n",
              "      <td>18-May-2023</td>\n",
              "      <td>2023</td>\n",
              "      <td>5</td>\n",
              "    </tr>\n",
              "    <tr>\n",
              "      <th>3790</th>\n",
              "      <td>14</td>\n",
              "      <td>135</td>\n",
              "      <td>168.5</td>\n",
              "      <td>19-May-2023</td>\n",
              "      <td>2023</td>\n",
              "      <td>5</td>\n",
              "    </tr>\n",
              "    <tr>\n",
              "      <th>3791</th>\n",
              "      <td>15</td>\n",
              "      <td>140</td>\n",
              "      <td>173.7</td>\n",
              "      <td>20-May-2023</td>\n",
              "      <td>2023</td>\n",
              "      <td>5</td>\n",
              "    </tr>\n",
              "    <tr>\n",
              "      <th>3792</th>\n",
              "      <td>16</td>\n",
              "      <td>138</td>\n",
              "      <td>167.3</td>\n",
              "      <td>21-May-2023</td>\n",
              "      <td>2023</td>\n",
              "      <td>5</td>\n",
              "    </tr>\n",
              "    <tr>\n",
              "      <th>3793</th>\n",
              "      <td>17</td>\n",
              "      <td>131</td>\n",
              "      <td>165.5</td>\n",
              "      <td>22-May-2023</td>\n",
              "      <td>2023</td>\n",
              "      <td>5</td>\n",
              "    </tr>\n",
              "  </tbody>\n",
              "</table>\n",
              "</div>\n",
              "      <button class=\"colab-df-convert\" onclick=\"convertToInteractive('df-d5936b2d-3822-4725-a8fe-e0caff8b9a6f')\"\n",
              "              title=\"Convert this dataframe to an interactive table.\"\n",
              "              style=\"display:none;\">\n",
              "        \n",
              "  <svg xmlns=\"http://www.w3.org/2000/svg\" height=\"24px\"viewBox=\"0 0 24 24\"\n",
              "       width=\"24px\">\n",
              "    <path d=\"M0 0h24v24H0V0z\" fill=\"none\"/>\n",
              "    <path d=\"M18.56 5.44l.94 2.06.94-2.06 2.06-.94-2.06-.94-.94-2.06-.94 2.06-2.06.94zm-11 1L8.5 8.5l.94-2.06 2.06-.94-2.06-.94L8.5 2.5l-.94 2.06-2.06.94zm10 10l.94 2.06.94-2.06 2.06-.94-2.06-.94-.94-2.06-.94 2.06-2.06.94z\"/><path d=\"M17.41 7.96l-1.37-1.37c-.4-.4-.92-.59-1.43-.59-.52 0-1.04.2-1.43.59L10.3 9.45l-7.72 7.72c-.78.78-.78 2.05 0 2.83L4 21.41c.39.39.9.59 1.41.59.51 0 1.02-.2 1.41-.59l7.78-7.78 2.81-2.81c.8-.78.8-2.07 0-2.86zM5.41 20L4 18.59l7.72-7.72 1.47 1.35L5.41 20z\"/>\n",
              "  </svg>\n",
              "      </button>\n",
              "      \n",
              "  <style>\n",
              "    .colab-df-container {\n",
              "      display:flex;\n",
              "      flex-wrap:wrap;\n",
              "      gap: 12px;\n",
              "    }\n",
              "\n",
              "    .colab-df-convert {\n",
              "      background-color: #E8F0FE;\n",
              "      border: none;\n",
              "      border-radius: 50%;\n",
              "      cursor: pointer;\n",
              "      display: none;\n",
              "      fill: #1967D2;\n",
              "      height: 32px;\n",
              "      padding: 0 0 0 0;\n",
              "      width: 32px;\n",
              "    }\n",
              "\n",
              "    .colab-df-convert:hover {\n",
              "      background-color: #E2EBFA;\n",
              "      box-shadow: 0px 1px 2px rgba(60, 64, 67, 0.3), 0px 1px 3px 1px rgba(60, 64, 67, 0.15);\n",
              "      fill: #174EA6;\n",
              "    }\n",
              "\n",
              "    [theme=dark] .colab-df-convert {\n",
              "      background-color: #3B4455;\n",
              "      fill: #D2E3FC;\n",
              "    }\n",
              "\n",
              "    [theme=dark] .colab-df-convert:hover {\n",
              "      background-color: #434B5C;\n",
              "      box-shadow: 0px 1px 3px 1px rgba(0, 0, 0, 0.15);\n",
              "      filter: drop-shadow(0px 1px 2px rgba(0, 0, 0, 0.3));\n",
              "      fill: #FFFFFF;\n",
              "    }\n",
              "  </style>\n",
              "\n",
              "      <script>\n",
              "        const buttonEl =\n",
              "          document.querySelector('#df-d5936b2d-3822-4725-a8fe-e0caff8b9a6f button.colab-df-convert');\n",
              "        buttonEl.style.display =\n",
              "          google.colab.kernel.accessAllowed ? 'block' : 'none';\n",
              "\n",
              "        async function convertToInteractive(key) {\n",
              "          const element = document.querySelector('#df-d5936b2d-3822-4725-a8fe-e0caff8b9a6f');\n",
              "          const dataTable =\n",
              "            await google.colab.kernel.invokeFunction('convertToInteractive',\n",
              "                                                     [key], {});\n",
              "          if (!dataTable) return;\n",
              "\n",
              "          const docLinkHtml = 'Like what you see? Visit the ' +\n",
              "            '<a target=\"_blank\" href=https://colab.research.google.com/notebooks/data_table.ipynb>data table notebook</a>'\n",
              "            + ' to learn more about interactive tables.';\n",
              "          element.innerHTML = '';\n",
              "          dataTable['output_type'] = 'display_data';\n",
              "          await google.colab.output.renderOutput(dataTable, element);\n",
              "          const docLink = document.createElement('div');\n",
              "          docLink.innerHTML = docLinkHtml;\n",
              "          element.appendChild(docLink);\n",
              "        }\n",
              "      </script>\n",
              "    </div>\n",
              "  </div>\n",
              "  "
            ]
          },
          "metadata": {},
          "execution_count": 7
        }
      ]
    },
    {
      "cell_type": "code",
      "source": [
        "df_solar['sunspostn'].groupby(df_solar[\"year\"]).mean().plot(kind=\"bar\")"
      ],
      "metadata": {
        "colab": {
          "base_uri": "https://localhost:8080/",
          "height": 488
        },
        "id": "wG-MdAnccTSp",
        "outputId": "95c3c927-15c4-4c7f-d5b6-92666cdafbbb"
      },
      "execution_count": 8,
      "outputs": [
        {
          "output_type": "execute_result",
          "data": {
            "text/plain": [
              "<Axes: xlabel='year'>"
            ]
          },
          "metadata": {},
          "execution_count": 8
        },
        {
          "output_type": "display_data",
          "data": {
            "text/plain": [
              "<Figure size 640x480 with 1 Axes>"
            ],
            "image/png": "[encoded data removed]"
          },
          "metadata": {}
        }
      ]
    },
    {
      "cell_type": "code",
      "source": [
        "df_solar['f107adj'].groupby(df_solar[\"year\"]).mean().plot(kind=\"bar\")"
      ],
      "metadata": {
        "colab": {
          "base_uri": "https://localhost:8080/",
          "height": 488
        },
        "id": "GrB7HxLldBAv",
        "outputId": "1d63d4c1-022e-4292-9bf1-f9a316e2cb01"
      },
      "execution_count": 9,
      "outputs": [
        {
          "output_type": "execute_result",
          "data": {
            "text/plain": [
              "<Axes: xlabel='year'>"
            ]
          },
          "metadata": {},
          "execution_count": 9
        },
        {
          "output_type": "display_data",
          "data": {
            "text/plain": [
              "<Figure size 640x480 with 1 Axes>"
            ],
            "image/png": "[encoded data removed]"
          },
          "metadata": {}
        }
      ]
    },
    {
      "cell_type": "code",
      "source": [
        "df_TID['dt'].groupby(df_TID[\"hour\"]).count().plot(kind=\"bar\")"
      ],
      "metadata": {
        "colab": {
          "base_uri": "https://localhost:8080/",
          "height": 470
        },
        "id": "OGheWQcCI3Jo",
        "outputId": "6a24793d-2282-4178-8772-fe2f457cf426"
      },
      "execution_count": 10,
      "outputs": [
        {
          "output_type": "execute_result",
          "data": {
            "text/plain": [
              "<Axes: xlabel='hour'>"
            ]
          },
          "metadata": {},
          "execution_count": 10
        },
        {
          "output_type": "display_data",
          "data": {
            "text/plain": [
              "<Figure size 640x480 with 1 Axes>"
            ],
            "image/png": "[encoded data removed]"
          },
          "metadata": {}
        }
      ]
    },
    {
      "cell_type": "markdown",
      "source": [
        "DURATA MEDIA NEL TEMPO: MESE, ORA"
      ],
      "metadata": {
        "id": "kdmOkpMFOufi"
      }
    },
    {
      "cell_type": "code",
      "source": [
        "print(df_TID['duration'].mean())\n",
        "df_TID['duration'].groupby(df_TID[\"duration\"].round(decimals=0) ).count().plot(kind=\"bar\")"
      ],
      "metadata": {
        "colab": {
          "base_uri": "https://localhost:8080/",
          "height": 501
        },
        "id": "ogddY5_VGuD5",
        "outputId": "370e0c62-6908-4637-edff-bc7233cf8e13"
      },
      "execution_count": 11,
      "outputs": [
        {
          "output_type": "stream",
          "name": "stdout",
          "text": [
            "3.9973684210526317\n"
          ]
        },
        {
          "output_type": "execute_result",
          "data": {
            "text/plain": [
              "<Axes: xlabel='duration'>"
            ]
          },
          "metadata": {},
          "execution_count": 11
        },
        {
          "output_type": "display_data",
          "data": {
            "text/plain": [
              "<Figure size 640x480 with 1 Axes>"
            ],
            "image/png": "[encoded data removed]"
          },
          "metadata": {}
        }
      ]
    },
    {
      "cell_type": "code",
      "source": [
        "df_TID['duration'].groupby(df_TID[\"hour\"]).mean().plot(kind=\"bar\")"
      ],
      "metadata": {
        "colab": {
          "base_uri": "https://localhost:8080/",
          "height": 470
        },
        "id": "n8AbExtlNa2_",
        "outputId": "c1b25b46-be0b-41ed-af3e-14a3125b83cf"
      },
      "execution_count": 12,
      "outputs": [
        {
          "output_type": "execute_result",
          "data": {
            "text/plain": [
              "<Axes: xlabel='hour'>"
            ]
          },
          "metadata": {},
          "execution_count": 12
        },
        {
          "output_type": "display_data",
          "data": {
            "text/plain": [
              "<Figure size 640x480 with 1 Axes>"
            ],
            "image/png": "[encoded data removed]"
          },
          "metadata": {}
        }
      ]
    },
    {
      "cell_type": "code",
      "source": [
        "df_TID['duration'].groupby(df_TID[\"month\"]).mean().plot(kind=\"bar\")"
      ],
      "metadata": {
        "colab": {
          "base_uri": "https://localhost:8080/",
          "height": 470
        },
        "id": "mO_YKcetN_1F",
        "outputId": "2c070b25-85cd-4b00-8687-fad291c235a4"
      },
      "execution_count": 13,
      "outputs": [
        {
          "output_type": "execute_result",
          "data": {
            "text/plain": [
              "<Axes: xlabel='month'>"
            ]
          },
          "metadata": {},
          "execution_count": 13
        },
        {
          "output_type": "display_data",
          "data": {
            "text/plain": [
              "<Figure size 640x480 with 1 Axes>"
            ],
            "image/png": "[encoded data removed]"
          },
          "metadata": {}
        }
      ]
    },
    {
      "cell_type": "markdown",
      "source": [
        "PERIODO MEDIO: MESE, ORA"
      ],
      "metadata": {
        "id": "kM5yfKIQO74C"
      }
    },
    {
      "cell_type": "code",
      "source": [
        "print(df_TID['period'].mean())\n",
        "df_TID['period'].groupby(df_TID[\"period\"].round(decimals=0) ).count().plot(kind=\"bar\")"
      ],
      "metadata": {
        "colab": {
          "base_uri": "https://localhost:8080/",
          "height": 510
        },
        "id": "kSkiPUxcHjtW",
        "outputId": "3334b112-1aa2-4aae-d600-2a226f318406"
      },
      "execution_count": 14,
      "outputs": [
        {
          "output_type": "stream",
          "name": "stdout",
          "text": [
            "121.97172368421052\n"
          ]
        },
        {
          "output_type": "execute_result",
          "data": {
            "text/plain": [
              "<Axes: xlabel='period'>"
            ]
          },
          "metadata": {},
          "execution_count": 14
        },
        {
          "output_type": "display_data",
          "data": {
            "text/plain": [
              "<Figure size 640x480 with 1 Axes>"
            ],
            "image/png": "[encoded data removed]"
          },
          "metadata": {}
        }
      ]
    },
    {
      "cell_type": "code",
      "source": [
        "df_TID['duration'].groupby(df_TID[\"hour\"]).mean().plot(kind=\"bar\")"
      ],
      "metadata": {
        "colab": {
          "base_uri": "https://localhost:8080/",
          "height": 470
        },
        "id": "fLtyVZpIPA4s",
        "outputId": "34f06239-f2f1-40b8-b2ea-e30e6e96cab7"
      },
      "execution_count": 15,
      "outputs": [
        {
          "output_type": "execute_result",
          "data": {
            "text/plain": [
              "<Axes: xlabel='hour'>"
            ]
          },
          "metadata": {},
          "execution_count": 15
        },
        {
          "output_type": "display_data",
          "data": {
            "text/plain": [
              "<Figure size 640x480 with 1 Axes>"
            ],
            "image/png": "[encoded data removed]"
          },
          "metadata": {}
        }
      ]
    },
    {
      "cell_type": "code",
      "source": [
        "df_TID['duration'].groupby(df_TID[\"month\"]).mean().plot(kind=\"bar\")"
      ],
      "metadata": {
        "colab": {
          "base_uri": "https://localhost:8080/",
          "height": 470
        },
        "id": "T0IxPv-HPBR2",
        "outputId": "f568ece1-b842-4752-fecb-764bba53eb11"
      },
      "execution_count": 16,
      "outputs": [
        {
          "output_type": "execute_result",
          "data": {
            "text/plain": [
              "<Axes: xlabel='month'>"
            ]
          },
          "metadata": {},
          "execution_count": 16
        },
        {
          "output_type": "display_data",
          "data": {
            "text/plain": [
              "<Figure size 640x480 with 1 Axes>"
            ],
            "image/png": "[encoded data removed]"
          },
          "metadata": {}
        }
      ]
    },
    {
      "cell_type": "markdown",
      "source": [
        "#Featrures\n"
      ],
      "metadata": {
        "id": "XkhefyN1QMXm"
      }
    },
    {
      "cell_type": "markdown",
      "source": [
        "## Auroral Electrojet"
      ],
      "metadata": {
        "id": "3STawrNzQVus"
      }
    },
    {
      "cell_type": "code",
      "source": [
        "df_electrojet = pd.read_csv('/content/gdrive/Shareddrives/T-FORSE/ImageIDX.csv')\n",
        "df_electrojet['dt'] = pd.to_datetime(df_electrojet['dt'], format=\"%d-%b-%Y %H:%M:%S\")\n",
        "df_electrojet = df_electrojet.set_index(df_electrojet['dt'])\n",
        "df_electrojet_res = df_electrojet.resample('30T').mean()\n",
        "df_electrojet_res['dt'] = df_electrojet_res.index\n",
        "df_electrojet_res['year'] = pd.DatetimeIndex(df_electrojet_res['dt']).year\n",
        "df_electrojet_res = df_electrojet_res[df_electrojet_res['year']>=2014]\n",
        "df_electrojet_res.head()"
      ],
      "metadata": {
        "colab": {
          "base_uri": "https://localhost:8080/",
          "height": 292
        },
        "id": "BcN_S-H5QQF9",
        "outputId": "e5f2fb6b-e199-458e-b827-1f6021773964"
      },
      "execution_count": 17,
      "outputs": [
        {
          "output_type": "stream",
          "name": "stderr",
          "text": [
            "<ipython-input-17-1fc63c6927c5>:4: FutureWarning: The default value of numeric_only in DataFrameGroupBy.mean is deprecated. In a future version, numeric_only will default to False. Either specify numeric_only or select only columns which should be valid for the function.\n",
            "  df_electrojet_res = df_electrojet.resample('30T').mean()\n"
          ]
        },
        {
          "output_type": "execute_result",
          "data": {
            "text/plain": [
              "                             IL         IU          IE                  dt  \\\n",
              "dt                                                                           \n",
              "2014-01-01 00:00:00  -36.811667   7.091667   43.903333 2014-01-01 00:00:00   \n",
              "2014-01-01 00:30:00  -71.978333   8.318333   80.296667 2014-01-01 00:30:00   \n",
              "2014-01-01 01:00:00  -93.480000  12.368333  105.848333 2014-01-01 01:00:00   \n",
              "2014-01-01 01:30:00 -104.801667   9.903333  114.705000 2014-01-01 01:30:00   \n",
              "2014-01-01 02:00:00 -100.380000   9.541667  109.921667 2014-01-01 02:00:00   \n",
              "\n",
              "                     year  \n",
              "dt                         \n",
              "2014-01-01 00:00:00  2014  \n",
              "2014-01-01 00:30:00  2014  \n",
              "2014-01-01 01:00:00  2014  \n",
              "2014-01-01 01:30:00  2014  \n",
              "2014-01-01 02:00:00  2014  "
            ],
            "text/html": [
              "\n",
              "  <div id=\"df-b471eafb-254e-4cc0-a4ee-1425f33c0427\">\n",
              "    <div class=\"colab-df-container\">\n",
              "      <div>\n",
              "<style scoped>\n",
              "    .dataframe tbody tr th:only-of-type {\n",
              "        vertical-align: middle;\n",
              "    }\n",
              "\n",
              "    .dataframe tbody tr th {\n",
              "        vertical-align: top;\n",
              "    }\n",
              "\n",
              "    .dataframe thead th {\n",
              "        text-align: right;\n",
              "    }\n",
              "</style>\n",
              "<table border=\"1\" class=\"dataframe\">\n",
              "  <thead>\n",
              "    <tr style=\"text-align: right;\">\n",
              "      <th></th>\n",
              "      <th>IL</th>\n",
              "      <th>IU</th>\n",
              "      <th>IE</th>\n",
              "      <th>dt</th>\n",
              "      <th>year</th>\n",
              "    </tr>\n",
              "    <tr>\n",
              "      <th>dt</th>\n",
              "      <th></th>\n",
              "      <th></th>\n",
              "      <th></th>\n",
              "      <th></th>\n",
              "      <th></th>\n",
              "    </tr>\n",
              "  </thead>\n",
              "  <tbody>\n",
              "    <tr>\n",
              "      <th>2014-01-01 00:00:00</th>\n",
              "      <td>-36.811667</td>\n",
              "      <td>7.091667</td>\n",
              "      <td>43.903333</td>\n",
              "      <td>2014-01-01 00:00:00</td>\n",
              "      <td>2014</td>\n",
              "    </tr>\n",
              "    <tr>\n",
              "      <th>2014-01-01 00:30:00</th>\n",
              "      <td>-71.978333</td>\n",
              "      <td>8.318333</td>\n",
              "      <td>80.296667</td>\n",
              "      <td>2014-01-01 00:30:00</td>\n",
              "      <td>2014</td>\n",
              "    </tr>\n",
              "    <tr>\n",
              "      <th>2014-01-01 01:00:00</th>\n",
              "      <td>-93.480000</td>\n",
              "      <td>12.368333</td>\n",
              "      <td>105.848333</td>\n",
              "      <td>2014-01-01 01:00:00</td>\n",
              "      <td>2014</td>\n",
              "    </tr>\n",
              "    <tr>\n",
              "      <th>2014-01-01 01:30:00</th>\n",
              "      <td>-104.801667</td>\n",
              "      <td>9.903333</td>\n",
              "      <td>114.705000</td>\n",
              "      <td>2014-01-01 01:30:00</td>\n",
              "      <td>2014</td>\n",
              "    </tr>\n",
              "    <tr>\n",
              "      <th>2014-01-01 02:00:00</th>\n",
              "      <td>-100.380000</td>\n",
              "      <td>9.541667</td>\n",
              "      <td>109.921667</td>\n",
              "      <td>2014-01-01 02:00:00</td>\n",
              "      <td>2014</td>\n",
              "    </tr>\n",
              "  </tbody>\n",
              "</table>\n",
              "</div>\n",
              "      <button class=\"colab-df-convert\" onclick=\"convertToInteractive('df-b471eafb-254e-4cc0-a4ee-1425f33c0427')\"\n",
              "              title=\"Convert this dataframe to an interactive table.\"\n",
              "              style=\"display:none;\">\n",
              "        \n",
              "  <svg xmlns=\"http://www.w3.org/2000/svg\" height=\"24px\"viewBox=\"0 0 24 24\"\n",
              "       width=\"24px\">\n",
              "    <path d=\"M0 0h24v24H0V0z\" fill=\"none\"/>\n",
              "    <path d=\"M18.56 5.44l.94 2.06.94-2.06 2.06-.94-2.06-.94-.94-2.06-.94 2.06-2.06.94zm-11 1L8.5 8.5l.94-2.06 2.06-.94-2.06-.94L8.5 2.5l-.94 2.06-2.06.94zm10 10l.94 2.06.94-2.06 2.06-.94-2.06-.94-.94-2.06-.94 2.06-2.06.94z\"/><path d=\"M17.41 7.96l-1.37-1.37c-.4-.4-.92-.59-1.43-.59-.52 0-1.04.2-1.43.59L10.3 9.45l-7.72 7.72c-.78.78-.78 2.05 0 2.83L4 21.41c.39.39.9.59 1.41.59.51 0 1.02-.2 1.41-.59l7.78-7.78 2.81-2.81c.8-.78.8-2.07 0-2.86zM5.41 20L4 18.59l7.72-7.72 1.47 1.35L5.41 20z\"/>\n",
              "  </svg>\n",
              "      </button>\n",
              "      \n",
              "  <style>\n",
              "    .colab-df-container {\n",
              "      display:flex;\n",
              "      flex-wrap:wrap;\n",
              "      gap: 12px;\n",
              "    }\n",
              "\n",
              "    .colab-df-convert {\n",
              "      background-color: #E8F0FE;\n",
              "      border: none;\n",
              "      border-radius: 50%;\n",
              "      cursor: pointer;\n",
              "      display: none;\n",
              "      fill: #1967D2;\n",
              "      height: 32px;\n",
              "      padding: 0 0 0 0;\n",
              "      width: 32px;\n",
              "    }\n",
              "\n",
              "    .colab-df-convert:hover {\n",
              "      background-color: #E2EBFA;\n",
              "      box-shadow: 0px 1px 2px rgba(60, 64, 67, 0.3), 0px 1px 3px 1px rgba(60, 64, 67, 0.15);\n",
              "      fill: #174EA6;\n",
              "    }\n",
              "\n",
              "    [theme=dark] .colab-df-convert {\n",
              "      background-color: #3B4455;\n",
              "      fill: #D2E3FC;\n",
              "    }\n",
              "\n",
              "    [theme=dark] .colab-df-convert:hover {\n",
              "      background-color: #434B5C;\n",
              "      box-shadow: 0px 1px 3px 1px rgba(0, 0, 0, 0.15);\n",
              "      filter: drop-shadow(0px 1px 2px rgba(0, 0, 0, 0.3));\n",
              "      fill: #FFFFFF;\n",
              "    }\n",
              "  </style>\n",
              "\n",
              "      <script>\n",
              "        const buttonEl =\n",
              "          document.querySelector('#df-b471eafb-254e-4cc0-a4ee-1425f33c0427 button.colab-df-convert');\n",
              "        buttonEl.style.display =\n",
              "          google.colab.kernel.accessAllowed ? 'block' : 'none';\n",
              "\n",
              "        async function convertToInteractive(key) {\n",
              "          const element = document.querySelector('#df-b471eafb-254e-4cc0-a4ee-1425f33c0427');\n",
              "          const dataTable =\n",
              "            await google.colab.kernel.invokeFunction('convertToInteractive',\n",
              "                                                     [key], {});\n",
              "          if (!dataTable) return;\n",
              "\n",
              "          const docLinkHtml = 'Like what you see? Visit the ' +\n",
              "            '<a target=\"_blank\" href=https://colab.research.google.com/notebooks/data_table.ipynb>data table notebook</a>'\n",
              "            + ' to learn more about interactive tables.';\n",
              "          element.innerHTML = '';\n",
              "          dataTable['output_type'] = 'display_data';\n",
              "          await google.colab.output.renderOutput(dataTable, element);\n",
              "          const docLink = document.createElement('div');\n",
              "          docLink.innerHTML = docLinkHtml;\n",
              "          element.appendChild(docLink);\n",
              "        }\n",
              "      </script>\n",
              "    </div>\n",
              "  </div>\n",
              "  "
            ]
          },
          "metadata": {},
          "execution_count": 17
        }
      ]
    },
    {
      "cell_type": "code",
      "source": [
        "print(len(df_electrojet_res[df_electrojet_res['IE'] > 800])/len(df_electrojet_res) * 100)\n",
        "df_electrojet_res['IE'][df_electrojet_res['IE'] < 800].plot.hist(bins=50, alpha=0.5)"
      ],
      "metadata": {
        "colab": {
          "base_uri": "https://localhost:8080/",
          "height": 465
        },
        "id": "MIWucTIlQ4qR",
        "outputId": "aaada0b9-4d34-40f0-ef6d-0f606b958c85"
      },
      "execution_count": 40,
      "outputs": [
        {
          "output_type": "stream",
          "name": "stdout",
          "text": [
            "0.0\n"
          ]
        },
        {
          "output_type": "execute_result",
          "data": {
            "text/plain": [
              "<Axes: ylabel='Frequency'>"
            ]
          },
          "metadata": {},
          "execution_count": 40
        },
        {
          "output_type": "display_data",
          "data": {
            "text/plain": [
              "<Figure size 640x480 with 1 Axes>"
            ],
            "image/png": "[encoded data removed]"
          },
          "metadata": {}
        }
      ]
    },
    {
      "cell_type": "markdown",
      "source": [
        "# Dataset Creation"
      ],
      "metadata": {
        "id": "6ksHfEG1Pi7P"
      }
    },
    {
      "cell_type": "markdown",
      "source": [
        "LABELS"
      ],
      "metadata": {
        "id": "rQP3yDDlhj61"
      }
    },
    {
      "cell_type": "code",
      "source": [
        "date = pd.date_range(start='2014-01-01 00:00:00', end='2022-12-31 23:30:00', freq='30T')\n",
        "df_y = pd.DataFrame({'dt' : date})\n",
        "df_y['TID_in_3hours'] = 0\n",
        "\n",
        "TID_times = pd.to_datetime(df_TID['dt'], format=\"%d-%b-%Y %H:%M:%S\")\n",
        "for i in TID_times:\n",
        "  start_date = i - timedelta(hours=3)\n",
        "  end_date = i\n",
        "  mask = (df_y['dt']>= start_date) & (df_y['dt'] <= end_date)\n",
        "  df_y.loc[mask, 'TID_in_3hours'] = 1\n",
        "\n",
        "print(df_y['TID_in_3hours'].value_counts()[1]/df_y['TID_in_3hours'].value_counts()[0]*100)\n",
        "df_y.tail()"
      ],
      "metadata": {
        "colab": {
          "base_uri": "https://localhost:8080/",
          "height": 223
        },
        "id": "wyJ2VOHWum4F",
        "outputId": "04f8ae8c-a744-47db-e71f-008c5a8fe8fd"
      },
      "execution_count": 19,
      "outputs": [
        {
          "output_type": "stream",
          "name": "stdout",
          "text": [
            "3.1276349589191526\n"
          ]
        },
        {
          "output_type": "execute_result",
          "data": {
            "text/plain": [
              "                        dt  TID_in_3hours\n",
              "157771 2022-12-31 21:30:00              0\n",
              "157772 2022-12-31 22:00:00              0\n",
              "157773 2022-12-31 22:30:00              0\n",
              "157774 2022-12-31 23:00:00              0\n",
              "157775 2022-12-31 23:30:00              0"
            ],
            "text/html": [
              "\n",
              "  <div id=\"df-b8cb8b76-e3ba-43c8-ab27-f54d7ff45b91\">\n",
              "    <div class=\"colab-df-container\">\n",
              "      <div>\n",
              "<style scoped>\n",
              "    .dataframe tbody tr th:only-of-type {\n",
              "        vertical-align: middle;\n",
              "    }\n",
              "\n",
              "    .dataframe tbody tr th {\n",
              "        vertical-align: top;\n",
              "    }\n",
              "\n",
              "    .dataframe thead th {\n",
              "        text-align: right;\n",
              "    }\n",
              "</style>\n",
              "<table border=\"1\" class=\"dataframe\">\n",
              "  <thead>\n",
              "    <tr style=\"text-align: right;\">\n",
              "      <th></th>\n",
              "      <th>dt</th>\n",
              "      <th>TID_in_3hours</th>\n",
              "    </tr>\n",
              "  </thead>\n",
              "  <tbody>\n",
              "    <tr>\n",
              "      <th>157771</th>\n",
              "      <td>2022-12-31 21:30:00</td>\n",
              "      <td>0</td>\n",
              "    </tr>\n",
              "    <tr>\n",
              "      <th>157772</th>\n",
              "      <td>2022-12-31 22:00:00</td>\n",
              "      <td>0</td>\n",
              "    </tr>\n",
              "    <tr>\n",
              "      <th>157773</th>\n",
              "      <td>2022-12-31 22:30:00</td>\n",
              "      <td>0</td>\n",
              "    </tr>\n",
              "    <tr>\n",
              "      <th>157774</th>\n",
              "      <td>2022-12-31 23:00:00</td>\n",
              "      <td>0</td>\n",
              "    </tr>\n",
              "    <tr>\n",
              "      <th>157775</th>\n",
              "      <td>2022-12-31 23:30:00</td>\n",
              "      <td>0</td>\n",
              "    </tr>\n",
              "  </tbody>\n",
              "</table>\n",
              "</div>\n",
              "      <button class=\"colab-df-convert\" onclick=\"convertToInteractive('df-b8cb8b76-e3ba-43c8-ab27-f54d7ff45b91')\"\n",
              "              title=\"Convert this dataframe to an interactive table.\"\n",
              "              style=\"display:none;\">\n",
              "        \n",
              "  <svg xmlns=\"http://www.w3.org/2000/svg\" height=\"24px\"viewBox=\"0 0 24 24\"\n",
              "       width=\"24px\">\n",
              "    <path d=\"M0 0h24v24H0V0z\" fill=\"none\"/>\n",
              "    <path d=\"M18.56 5.44l.94 2.06.94-2.06 2.06-.94-2.06-.94-.94-2.06-.94 2.06-2.06.94zm-11 1L8.5 8.5l.94-2.06 2.06-.94-2.06-.94L8.5 2.5l-.94 2.06-2.06.94zm10 10l.94 2.06.94-2.06 2.06-.94-2.06-.94-.94-2.06-.94 2.06-2.06.94z\"/><path d=\"M17.41 7.96l-1.37-1.37c-.4-.4-.92-.59-1.43-.59-.52 0-1.04.2-1.43.59L10.3 9.45l-7.72 7.72c-.78.78-.78 2.05 0 2.83L4 21.41c.39.39.9.59 1.41.59.51 0 1.02-.2 1.41-.59l7.78-7.78 2.81-2.81c.8-.78.8-2.07 0-2.86zM5.41 20L4 18.59l7.72-7.72 1.47 1.35L5.41 20z\"/>\n",
              "  </svg>\n",
              "      </button>\n",
              "      \n",
              "  <style>\n",
              "    .colab-df-container {\n",
              "      display:flex;\n",
              "      flex-wrap:wrap;\n",
              "      gap: 12px;\n",
              "    }\n",
              "\n",
              "    .colab-df-convert {\n",
              "      background-color: #E8F0FE;\n",
              "      border: none;\n",
              "      border-radius: 50%;\n",
              "      cursor: pointer;\n",
              "      display: none;\n",
              "      fill: #1967D2;\n",
              "      height: 32px;\n",
              "      padding: 0 0 0 0;\n",
              "      width: 32px;\n",
              "    }\n",
              "\n",
              "    .colab-df-convert:hover {\n",
              "      background-color: #E2EBFA;\n",
              "      box-shadow: 0px 1px 2px rgba(60, 64, 67, 0.3), 0px 1px 3px 1px rgba(60, 64, 67, 0.15);\n",
              "      fill: #174EA6;\n",
              "    }\n",
              "\n",
              "    [theme=dark] .colab-df-convert {\n",
              "      background-color: #3B4455;\n",
              "      fill: #D2E3FC;\n",
              "    }\n",
              "\n",
              "    [theme=dark] .colab-df-convert:hover {\n",
              "      background-color: #434B5C;\n",
              "      box-shadow: 0px 1px 3px 1px rgba(0, 0, 0, 0.15);\n",
              "      filter: drop-shadow(0px 1px 2px rgba(0, 0, 0, 0.3));\n",
              "      fill: #FFFFFF;\n",
              "    }\n",
              "  </style>\n",
              "\n",
              "      <script>\n",
              "        const buttonEl =\n",
              "          document.querySelector('#df-b8cb8b76-e3ba-43c8-ab27-f54d7ff45b91 button.colab-df-convert');\n",
              "        buttonEl.style.display =\n",
              "          google.colab.kernel.accessAllowed ? 'block' : 'none';\n",
              "\n",
              "        async function convertToInteractive(key) {\n",
              "          const element = document.querySelector('#df-b8cb8b76-e3ba-43c8-ab27-f54d7ff45b91');\n",
              "          const dataTable =\n",
              "            await google.colab.kernel.invokeFunction('convertToInteractive',\n",
              "                                                     [key], {});\n",
              "          if (!dataTable) return;\n",
              "\n",
              "          const docLinkHtml = 'Like what you see? Visit the ' +\n",
              "            '<a target=\"_blank\" href=https://colab.research.google.com/notebooks/data_table.ipynb>data table notebook</a>'\n",
              "            + ' to learn more about interactive tables.';\n",
              "          element.innerHTML = '';\n",
              "          dataTable['output_type'] = 'display_data';\n",
              "          await google.colab.output.renderOutput(dataTable, element);\n",
              "          const docLink = document.createElement('div');\n",
              "          docLink.innerHTML = docLinkHtml;\n",
              "          element.appendChild(docLink);\n",
              "        }\n",
              "      </script>\n",
              "    </div>\n",
              "  </div>\n",
              "  "
            ]
          },
          "metadata": {},
          "execution_count": 19
        }
      ]
    },
    {
      "cell_type": "code",
      "source": [
        "df_y['TID_in_3hours'].groupby(df_y[\"TID_in_3hours\"]).count().plot(kind=\"bar\")"
      ],
      "metadata": {
        "colab": {
          "base_uri": "https://localhost:8080/",
          "height": 465
        },
        "id": "HgM5lEsvjirU",
        "outputId": "08aced3a-fe76-457d-b253-04034b477294"
      },
      "execution_count": 20,
      "outputs": [
        {
          "output_type": "execute_result",
          "data": {
            "text/plain": [
              "<Axes: xlabel='TID_in_3hours'>"
            ]
          },
          "metadata": {},
          "execution_count": 20
        },
        {
          "output_type": "display_data",
          "data": {
            "text/plain": [
              "<Figure size 640x480 with 1 Axes>"
            ],
            "image/png": "[encoded data removed]"
          },
          "metadata": {}
        }
      ]
    },
    {
      "cell_type": "markdown",
      "source": [
        "FEATURES"
      ],
      "metadata": {
        "id": "MubpGdkqi6_K"
      }
    },
    {
      "cell_type": "code",
      "source": [
        "df_x = pd.DataFrame()\n",
        "back_steps = 6\n",
        "\n",
        "df_electrojet_res['IE'][df_electrojet_res['IE']>800] = 800\n",
        "for i in range(back_steps):\n",
        "  df_x['F(t-' + str(back_steps- i)+')'] = df_electrojet_res['IE'].shift(periods= back_steps- i-1)\n",
        "\n",
        "\n",
        "df_x['labels'] = 0\n",
        "df_x['labels'].iloc[2:] = df_y['TID_in_3hours'].iloc[:-2]\n",
        "\n",
        "df_x.index = df_x.index + pd.DateOffset(hours=1)\n",
        "\n",
        "df_ML = df_x.iloc[back_steps -1 :]\n",
        "\n",
        "\n",
        "from pathlib import Path  \n",
        "filepath = Path('/content/gdrive/Shareddrives/T-FORSE/ML_Dataset.csv')  \n",
        "filepath.parent.mkdir(parents=True, exist_ok=True)  \n",
        "df_ML.to_csv(filepath) \n",
        "df_ML = df_ML.round(2)\n",
        "df_ML.head(15)"
      ],
      "metadata": {
        "colab": {
          "base_uri": "https://localhost:8080/",
          "height": 744
        },
        "id": "dHkoDIJMi_b8",
        "outputId": "edfd487c-4f76-4c9c-ce17-bcfab357d2af"
      },
      "execution_count": 49,
      "outputs": [
        {
          "output_type": "stream",
          "name": "stderr",
          "text": [
            "<ipython-input-49-937cd5f707f8>:4: SettingWithCopyWarning: \n",
            "A value is trying to be set on a copy of a slice from a DataFrame\n",
            "\n",
            "See the caveats in the documentation: https://pandas.pydata.org/pandas-docs/stable/user_guide/indexing.html#returning-a-view-versus-a-copy\n",
            "  df_electrojet_res['IE'][df_electrojet_res['IE']>800] = 800\n",
            "<ipython-input-49-937cd5f707f8>:10: SettingWithCopyWarning: \n",
            "A value is trying to be set on a copy of a slice from a DataFrame\n",
            "\n",
            "See the caveats in the documentation: https://pandas.pydata.org/pandas-docs/stable/user_guide/indexing.html#returning-a-view-versus-a-copy\n",
            "  df_x['labels'].iloc[2:] = df_y['TID_in_3hours'].iloc[:-2]\n"
          ]
        },
        {
          "output_type": "execute_result",
          "data": {
            "text/plain": [
              "                     F(t-6)  F(t-5)  F(t-4)  F(t-3)  F(t-2)  F(t-1)  labels\n",
              "dt                                                                         \n",
              "2014-01-01 03:30:00   43.90   80.30  105.85  114.70  109.92   98.08       0\n",
              "2014-01-01 04:00:00   80.30  105.85  114.70  109.92   98.08   92.24       0\n",
              "2014-01-01 04:30:00  105.85  114.70  109.92   98.08   92.24   93.29       0\n",
              "2014-01-01 05:00:00  114.70  109.92   98.08   92.24   93.29  125.80       0\n",
              "2014-01-01 05:30:00  109.92   98.08   92.24   93.29  125.80  143.82       0\n",
              "2014-01-01 06:00:00   98.08   92.24   93.29  125.80  143.82  140.16       0\n",
              "2014-01-01 06:30:00   92.24   93.29  125.80  143.82  140.16  174.43       0\n",
              "2014-01-01 07:00:00   93.29  125.80  143.82  140.16  174.43  106.92       0\n",
              "2014-01-01 07:30:00  125.80  143.82  140.16  174.43  106.92   85.96       0\n",
              "2014-01-01 08:00:00  143.82  140.16  174.43  106.92   85.96  113.49       0\n",
              "2014-01-01 08:30:00  140.16  174.43  106.92   85.96  113.49   75.04       0\n",
              "2014-01-01 09:00:00  174.43  106.92   85.96  113.49   75.04   44.49       0\n",
              "2014-01-01 09:30:00  106.92   85.96  113.49   75.04   44.49   50.81       0\n",
              "2014-01-01 10:00:00   85.96  113.49   75.04   44.49   50.81   33.46       0\n",
              "2014-01-01 10:30:00  113.49   75.04   44.49   50.81   33.46   74.33       0"
            ],
            "text/html": [
              "\n",
              "  <div id=\"df-c8214c43-2872-44e4-af0e-242e0d960b9b\">\n",
              "    <div class=\"colab-df-container\">\n",
              "      <div>\n",
              "<style scoped>\n",
              "    .dataframe tbody tr th:only-of-type {\n",
              "        vertical-align: middle;\n",
              "    }\n",
              "\n",
              "    .dataframe tbody tr th {\n",
              "        vertical-align: top;\n",
              "    }\n",
              "\n",
              "    .dataframe thead th {\n",
              "        text-align: right;\n",
              "    }\n",
              "</style>\n",
              "<table border=\"1\" class=\"dataframe\">\n",
              "  <thead>\n",
              "    <tr style=\"text-align: right;\">\n",
              "      <th></th>\n",
              "      <th>F(t-6)</th>\n",
              "      <th>F(t-5)</th>\n",
              "      <th>F(t-4)</th>\n",
              "      <th>F(t-3)</th>\n",
              "      <th>F(t-2)</th>\n",
              "      <th>F(t-1)</th>\n",
              "      <th>labels</th>\n",
              "    </tr>\n",
              "    <tr>\n",
              "      <th>dt</th>\n",
              "      <th></th>\n",
              "      <th></th>\n",
              "      <th></th>\n",
              "      <th></th>\n",
              "      <th></th>\n",
              "      <th></th>\n",
              "      <th></th>\n",
              "    </tr>\n",
              "  </thead>\n",
              "  <tbody>\n",
              "    <tr>\n",
              "      <th>2014-01-01 03:30:00</th>\n",
              "      <td>43.90</td>\n",
              "      <td>80.30</td>\n",
              "      <td>105.85</td>\n",
              "      <td>114.70</td>\n",
              "      <td>109.92</td>\n",
              "      <td>98.08</td>\n",
              "      <td>0</td>\n",
              "    </tr>\n",
              "    <tr>\n",
              "      <th>2014-01-01 04:00:00</th>\n",
              "      <td>80.30</td>\n",
              "      <td>105.85</td>\n",
              "      <td>114.70</td>\n",
              "      <td>109.92</td>\n",
              "      <td>98.08</td>\n",
              "      <td>92.24</td>\n",
              "      <td>0</td>\n",
              "    </tr>\n",
              "    <tr>\n",
              "      <th>2014-01-01 04:30:00</th>\n",
              "      <td>105.85</td>\n",
              "      <td>114.70</td>\n",
              "      <td>109.92</td>\n",
              "      <td>98.08</td>\n",
              "      <td>92.24</td>\n",
              "      <td>93.29</td>\n",
              "      <td>0</td>\n",
              "    </tr>\n",
              "    <tr>\n",
              "      <th>2014-01-01 05:00:00</th>\n",
              "      <td>114.70</td>\n",
              "      <td>109.92</td>\n",
              "      <td>98.08</td>\n",
              "      <td>92.24</td>\n",
              "      <td>93.29</td>\n",
              "      <td>125.80</td>\n",
              "      <td>0</td>\n",
              "    </tr>\n",
              "    <tr>\n",
              "      <th>2014-01-01 05:30:00</th>\n",
              "      <td>109.92</td>\n",
              "      <td>98.08</td>\n",
              "      <td>92.24</td>\n",
              "      <td>93.29</td>\n",
              "      <td>125.80</td>\n",
              "      <td>143.82</td>\n",
              "      <td>0</td>\n",
              "    </tr>\n",
              "    <tr>\n",
              "      <th>2014-01-01 06:00:00</th>\n",
              "      <td>98.08</td>\n",
              "      <td>92.24</td>\n",
              "      <td>93.29</td>\n",
              "      <td>125.80</td>\n",
              "      <td>143.82</td>\n",
              "      <td>140.16</td>\n",
              "      <td>0</td>\n",
              "    </tr>\n",
              "    <tr>\n",
              "      <th>2014-01-01 06:30:00</th>\n",
              "      <td>92.24</td>\n",
              "      <td>93.29</td>\n",
              "      <td>125.80</td>\n",
              "      <td>143.82</td>\n",
              "      <td>140.16</td>\n",
              "      <td>174.43</td>\n",
              "      <td>0</td>\n",
              "    </tr>\n",
              "    <tr>\n",
              "      <th>2014-01-01 07:00:00</th>\n",
              "      <td>93.29</td>\n",
              "      <td>125.80</td>\n",
              "      <td>143.82</td>\n",
              "      <td>140.16</td>\n",
              "      <td>174.43</td>\n",
              "      <td>106.92</td>\n",
              "      <td>0</td>\n",
              "    </tr>\n",
              "    <tr>\n",
              "      <th>2014-01-01 07:30:00</th>\n",
              "      <td>125.80</td>\n",
              "      <td>143.82</td>\n",
              "      <td>140.16</td>\n",
              "      <td>174.43</td>\n",
              "      <td>106.92</td>\n",
              "      <td>85.96</td>\n",
              "      <td>0</td>\n",
              "    </tr>\n",
              "    <tr>\n",
              "      <th>2014-01-01 08:00:00</th>\n",
              "      <td>143.82</td>\n",
              "      <td>140.16</td>\n",
              "      <td>174.43</td>\n",
              "      <td>106.92</td>\n",
              "      <td>85.96</td>\n",
              "      <td>113.49</td>\n",
              "      <td>0</td>\n",
              "    </tr>\n",
              "    <tr>\n",
              "      <th>2014-01-01 08:30:00</th>\n",
              "      <td>140.16</td>\n",
              "      <td>174.43</td>\n",
              "      <td>106.92</td>\n",
              "      <td>85.96</td>\n",
              "      <td>113.49</td>\n",
              "      <td>75.04</td>\n",
              "      <td>0</td>\n",
              "    </tr>\n",
              "    <tr>\n",
              "      <th>2014-01-01 09:00:00</th>\n",
              "      <td>174.43</td>\n",
              "      <td>106.92</td>\n",
              "      <td>85.96</td>\n",
              "      <td>113.49</td>\n",
              "      <td>75.04</td>\n",
              "      <td>44.49</td>\n",
              "      <td>0</td>\n",
              "    </tr>\n",
              "    <tr>\n",
              "      <th>2014-01-01 09:30:00</th>\n",
              "      <td>106.92</td>\n",
              "      <td>85.96</td>\n",
              "      <td>113.49</td>\n",
              "      <td>75.04</td>\n",
              "      <td>44.49</td>\n",
              "      <td>50.81</td>\n",
              "      <td>0</td>\n",
              "    </tr>\n",
              "    <tr>\n",
              "      <th>2014-01-01 10:00:00</th>\n",
              "      <td>85.96</td>\n",
              "      <td>113.49</td>\n",
              "      <td>75.04</td>\n",
              "      <td>44.49</td>\n",
              "      <td>50.81</td>\n",
              "      <td>33.46</td>\n",
              "      <td>0</td>\n",
              "    </tr>\n",
              "    <tr>\n",
              "      <th>2014-01-01 10:30:00</th>\n",
              "      <td>113.49</td>\n",
              "      <td>75.04</td>\n",
              "      <td>44.49</td>\n",
              "      <td>50.81</td>\n",
              "      <td>33.46</td>\n",
              "      <td>74.33</td>\n",
              "      <td>0</td>\n",
              "    </tr>\n",
              "  </tbody>\n",
              "</table>\n",
              "</div>\n",
              "      <button class=\"colab-df-convert\" onclick=\"convertToInteractive('df-c8214c43-2872-44e4-af0e-242e0d960b9b')\"\n",
              "              title=\"Convert this dataframe to an interactive table.\"\n",
              "              style=\"display:none;\">\n",
              "        \n",
              "  <svg xmlns=\"http://www.w3.org/2000/svg\" height=\"24px\"viewBox=\"0 0 24 24\"\n",
              "       width=\"24px\">\n",
              "    <path d=\"M0 0h24v24H0V0z\" fill=\"none\"/>\n",
              "    <path d=\"M18.56 5.44l.94 2.06.94-2.06 2.06-.94-2.06-.94-.94-2.06-.94 2.06-2.06.94zm-11 1L8.5 8.5l.94-2.06 2.06-.94-2.06-.94L8.5 2.5l-.94 2.06-2.06.94zm10 10l.94 2.06.94-2.06 2.06-.94-2.06-.94-.94-2.06-.94 2.06-2.06.94z\"/><path d=\"M17.41 7.96l-1.37-1.37c-.4-.4-.92-.59-1.43-.59-.52 0-1.04.2-1.43.59L10.3 9.45l-7.72 7.72c-.78.78-.78 2.05 0 2.83L4 21.41c.39.39.9.59 1.41.59.51 0 1.02-.2 1.41-.59l7.78-7.78 2.81-2.81c.8-.78.8-2.07 0-2.86zM5.41 20L4 18.59l7.72-7.72 1.47 1.35L5.41 20z\"/>\n",
              "  </svg>\n",
              "      </button>\n",
              "      \n",
              "  <style>\n",
              "    .colab-df-container {\n",
              "      display:flex;\n",
              "      flex-wrap:wrap;\n",
              "      gap: 12px;\n",
              "    }\n",
              "\n",
              "    .colab-df-convert {\n",
              "      background-color: #E8F0FE;\n",
              "      border: none;\n",
              "      border-radius: 50%;\n",
              "      cursor: pointer;\n",
              "      display: none;\n",
              "      fill: #1967D2;\n",
              "      height: 32px;\n",
              "      padding: 0 0 0 0;\n",
              "      width: 32px;\n",
              "    }\n",
              "\n",
              "    .colab-df-convert:hover {\n",
              "      background-color: #E2EBFA;\n",
              "      box-shadow: 0px 1px 2px rgba(60, 64, 67, 0.3), 0px 1px 3px 1px rgba(60, 64, 67, 0.15);\n",
              "      fill: #174EA6;\n",
              "    }\n",
              "\n",
              "    [theme=dark] .colab-df-convert {\n",
              "      background-color: #3B4455;\n",
              "      fill: #D2E3FC;\n",
              "    }\n",
              "\n",
              "    [theme=dark] .colab-df-convert:hover {\n",
              "      background-color: #434B5C;\n",
              "      box-shadow: 0px 1px 3px 1px rgba(0, 0, 0, 0.15);\n",
              "      filter: drop-shadow(0px 1px 2px rgba(0, 0, 0, 0.3));\n",
              "      fill: #FFFFFF;\n",
              "    }\n",
              "  </style>\n",
              "\n",
              "      <script>\n",
              "        const buttonEl =\n",
              "          document.querySelector('#df-c8214c43-2872-44e4-af0e-242e0d960b9b button.colab-df-convert');\n",
              "        buttonEl.style.display =\n",
              "          google.colab.kernel.accessAllowed ? 'block' : 'none';\n",
              "\n",
              "        async function convertToInteractive(key) {\n",
              "          const element = document.querySelector('#df-c8214c43-2872-44e4-af0e-242e0d960b9b');\n",
              "          const dataTable =\n",
              "            await google.colab.kernel.invokeFunction('convertToInteractive',\n",
              "                                                     [key], {});\n",
              "          if (!dataTable) return;\n",
              "\n",
              "          const docLinkHtml = 'Like what you see? Visit the ' +\n",
              "            '<a target=\"_blank\" href=https://colab.research.google.com/notebooks/data_table.ipynb>data table notebook</a>'\n",
              "            + ' to learn more about interactive tables.';\n",
              "          element.innerHTML = '';\n",
              "          dataTable['output_type'] = 'display_data';\n",
              "          await google.colab.output.renderOutput(dataTable, element);\n",
              "          const docLink = document.createElement('div');\n",
              "          docLink.innerHTML = docLinkHtml;\n",
              "          element.appendChild(docLink);\n",
              "        }\n",
              "      </script>\n",
              "    </div>\n",
              "  </div>\n",
              "  "
            ]
          },
          "metadata": {},
          "execution_count": 49
        }
      ]
    },
    {
      "cell_type": "code",
      "source": [
        "df_ML['F(t-1)'].groupby(df_ML[\"labels\"]).mean().plot(kind=\"bar\")"
      ],
      "metadata": {
        "colab": {
          "base_uri": "https://localhost:8080/",
          "height": 461
        },
        "id": "d0JyL_QUjXXw",
        "outputId": "7bb15823-e821-4f74-91c3-0cac9c25562b"
      },
      "execution_count": 50,
      "outputs": [
        {
          "output_type": "execute_result",
          "data": {
            "text/plain": [
              "<Axes: xlabel='labels'>"
            ]
          },
          "metadata": {},
          "execution_count": 50
        },
        {
          "output_type": "display_data",
          "data": {
            "text/plain": [
              "<Figure size 640x480 with 1 Axes>"
            ],
            "image/png": "[encoded data removed]"
          },
          "metadata": {}
        }
      ]
    },
    {
      "cell_type": "code",
      "source": [
        "df_ML['F(t-1)'].round(0)[df_ML['labels'] == 1].plot.hist(bins=50, alpha=0.5)"
      ],
      "metadata": {
        "colab": {
          "base_uri": "https://localhost:8080/",
          "height": 447
        },
        "id": "JnqDfznBNumf",
        "outputId": "5470951f-0260-4f5c-dec9-ee2564c21650"
      },
      "execution_count": 54,
      "outputs": [
        {
          "output_type": "execute_result",
          "data": {
            "text/plain": [
              "<Axes: ylabel='Frequency'>"
            ]
          },
          "metadata": {},
          "execution_count": 54
        },
        {
          "output_type": "display_data",
          "data": {
            "text/plain": [
              "<Figure size 640x480 with 1 Axes>"
            ],
            "image/png": "[encoded data removed]"
          },
          "metadata": {}
        }
      ]
    },
    {
      "cell_type": "code",
      "source": [
        "df_ML['F(t-1)'].round(0)[df_ML['labels'] == 0].plot.hist(bins=50, alpha=0.5)"
      ],
      "metadata": {
        "colab": {
          "base_uri": "https://localhost:8080/",
          "height": 447
        },
        "id": "8a-5Ba5JSttf",
        "outputId": "2e7dea06-7f42-494d-e63a-2c3f9744f575"
      },
      "execution_count": 55,
      "outputs": [
        {
          "output_type": "execute_result",
          "data": {
            "text/plain": [
              "<Axes: ylabel='Frequency'>"
            ]
          },
          "metadata": {},
          "execution_count": 55
        },
        {
          "output_type": "display_data",
          "data": {
            "text/plain": [
              "<Figure size 640x480 with 1 Axes>"
            ],
            "image/png": "[encoded data removed]"
          },
          "metadata": {}
        }
      ]
    },
    {
      "cell_type": "code",
      "source": [
        "import matplotlib.pyplot as plt\n",
        "plt.hist(df_ML['F(t-2)'][df_ML['labels'] == 1], edgecolor='black',color='blue',rwidth=0.9,alpha=0.5,label='Y')\n",
        "plt.hist(df_ML['F(t-2)'][df_ML['labels'] == 0], edgecolor='black',color='brown',rwidth=0.7,alpha=0.5,label='N')"
      ],
      "metadata": {
        "colab": {
          "base_uri": "https://localhost:8080/",
          "height": 517
        },
        "id": "gMyI2N9TTnGz",
        "outputId": "eac3bce9-74c5-4af8-b260-09738432e51c"
      },
      "execution_count": 57,
      "outputs": [
        {
          "output_type": "execute_result",
          "data": {
            "text/plain": [
              "(array([69621., 38746., 18069.,  9683.,  5505.,  3359.,  2132.,  1396.,\n",
              "          894.,  3581.]),\n",
              " array([  1.58 ,  61.422, 121.264, 181.106, 240.948, 300.79 , 360.632,\n",
              "        420.474, 480.316, 540.158, 600.   ]),\n",
              " <BarContainer object of 10 artists>)"
            ]
          },
          "metadata": {},
          "execution_count": 57
        },
        {
          "output_type": "display_data",
          "data": {
            "text/plain": [
              "<Figure size 640x480 with 1 Axes>"
            ],
            "image/png": "[encoded data removed]"
          },
          "metadata": {}
        }
      ]
    },
    {
      "cell_type": "code",
      "source": [],
      "metadata": {
        "id": "foI6xobzVoFw"
      },
      "execution_count": null,
      "outputs": []
    }
  ]
}